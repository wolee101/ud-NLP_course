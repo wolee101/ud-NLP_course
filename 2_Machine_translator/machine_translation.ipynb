{
 "cells": [
  {
   "cell_type": "markdown",
   "metadata": {
    "collapsed": true
   },
   "source": [
    "# Artificial Intelligence Nanodegree\n",
    "## Machine Translation Project\n",
    "In this notebook, sections that end with **'(IMPLEMENTATION)'** in the header indicate that the following blocks of code will require additional functionality which you must provide. Please be sure to read the instructions carefully!\n",
    "\n",
    "## Introduction\n",
    "In this notebook, you will build a deep neural network that functions as part of an end-to-end machine translation pipeline. Your completed pipeline will accept English text as input and return the French translation.\n",
    "\n",
    "- **Preprocess** - You'll convert text to sequence of integers.\n",
    "- **Models** Create models which accepts a sequence of integers as input and returns a probability distribution over possible translations. After learning about the basic types of neural networks that are often used for machine translation, you will engage in your own investigations, to design your own model!\n",
    "- **Prediction** Run the model on English text."
   ]
  },
  {
   "cell_type": "code",
   "execution_count": 1,
   "metadata": {},
   "outputs": [],
   "source": [
    "%load_ext autoreload\n",
    "%aimport helper, tests\n",
    "%autoreload 1"
   ]
  },
  {
   "cell_type": "code",
   "execution_count": 2,
   "metadata": {},
   "outputs": [
    {
     "name": "stderr",
     "output_type": "stream",
     "text": [
      "Using TensorFlow backend.\n"
     ]
    }
   ],
   "source": [
    "import collections\n",
    "\n",
    "import helper\n",
    "import numpy as np\n",
    "import project_tests as tests\n",
    "\n",
    "from keras.preprocessing.text import Tokenizer\n",
    "from keras.preprocessing.sequence import pad_sequences\n",
    "from keras.models import Model\n",
    "from keras.layers import GRU, LSTM, Input, Dense, TimeDistributed, Activation, RepeatVector, Bidirectional\n",
    "from keras.layers.embeddings import Embedding\n",
    "from keras.optimizers import Adam\n",
    "from keras.losses import sparse_categorical_crossentropy"
   ]
  },
  {
   "cell_type": "markdown",
   "metadata": {},
   "source": [
    "### Verify access to the GPU\n",
    "The following test applies only if you expect to be using a GPU, e.g., while running in a Udacity Workspace or using an AWS instance with GPU support. Run the next cell, and verify that the device_type is \"GPU\".\n",
    "- If the device is not GPU & you are running from a Udacity Workspace, then save your workspace with the icon at the top, then click \"enable\" at the bottom of the workspace.\n",
    "- If the device is not GPU & you are running from an AWS instance, then refer to the cloud computing instructions in the classroom to verify your setup steps."
   ]
  },
  {
   "cell_type": "code",
   "execution_count": 3,
   "metadata": {},
   "outputs": [
    {
     "name": "stdout",
     "output_type": "stream",
     "text": [
      "[name: \"/cpu:0\"\n",
      "device_type: \"CPU\"\n",
      "memory_limit: 268435456\n",
      "locality {\n",
      "}\n",
      "incarnation: 281034650051445845\n",
      ", name: \"/gpu:0\"\n",
      "device_type: \"GPU\"\n",
      "memory_limit: 357433344\n",
      "locality {\n",
      "  bus_id: 1\n",
      "}\n",
      "incarnation: 16161685359949813692\n",
      "physical_device_desc: \"device: 0, name: Tesla K80, pci bus id: 0000:00:04.0\"\n",
      "]\n"
     ]
    }
   ],
   "source": [
    "from tensorflow.python.client import device_lib\n",
    "print(device_lib.list_local_devices())"
   ]
  },
  {
   "cell_type": "markdown",
   "metadata": {},
   "source": [
    "## Dataset\n",
    "We begin by investigating the dataset that will be used to train and evaluate your pipeline.  The most common datasets used for machine translation are from [WMT](http://www.statmt.org/).  However, that will take a long time to train a neural network on.  We'll be using a dataset we created for this project that contains a small vocabulary.  You'll be able to train your model in a reasonable time with this dataset.\n",
    "### Load Data\n",
    "The data is located in `data/small_vocab_en` and `data/small_vocab_fr`. The `small_vocab_en` file contains English sentences with their French translations in the `small_vocab_fr` file. Load the English and French data from these files from running the cell below."
   ]
  },
  {
   "cell_type": "code",
   "execution_count": 3,
   "metadata": {},
   "outputs": [
    {
     "name": "stdout",
     "output_type": "stream",
     "text": [
      "Dataset Loaded\n"
     ]
    }
   ],
   "source": [
    "# Load English data\n",
    "english_sentences = helper.load_data('data/small_vocab_en')\n",
    "# Load French data\n",
    "french_sentences = helper.load_data('data/small_vocab_fr')\n",
    "\n",
    "print('Dataset Loaded')"
   ]
  },
  {
   "cell_type": "markdown",
   "metadata": {},
   "source": [
    "### Files\n",
    "Each line in `small_vocab_en` contains an English sentence with the respective translation in each line of `small_vocab_fr`.  View the first two lines from each file."
   ]
  },
  {
   "cell_type": "code",
   "execution_count": 6,
   "metadata": {},
   "outputs": [
    {
     "name": "stdout",
     "output_type": "stream",
     "text": [
      "small_vocab_en Line 1:  new jersey is sometimes quiet during autumn , and it is snowy in april .\n",
      "small_vocab_fr Line 1:  new jersey est parfois calme pendant l' automne , et il est neigeux en avril .\n",
      "small_vocab_en Line 2:  the united states is usually chilly during july , and it is usually freezing in november .\n",
      "small_vocab_fr Line 2:  les états-unis est généralement froid en juillet , et il gèle habituellement en novembre .\n"
     ]
    }
   ],
   "source": [
    "for sample_i in range(2):\n",
    "    print('small_vocab_en Line {}:  {}'.format(sample_i + 1, english_sentences[sample_i]))\n",
    "    print('small_vocab_fr Line {}:  {}'.format(sample_i + 1, french_sentences[sample_i]))"
   ]
  },
  {
   "cell_type": "markdown",
   "metadata": {},
   "source": [
    "From looking at the sentences, you can see they have been preprocessed already.  The puncuations have been delimited using spaces. All the text have been converted to lowercase.  This should save you some time, but the text requires more preprocessing.\n",
    "### Vocabulary\n",
    "The complexity of the problem is determined by the complexity of the vocabulary.  A more complex vocabulary is a more complex problem.  Let's look at the complexity of the dataset we'll be working with."
   ]
  },
  {
   "cell_type": "code",
   "execution_count": 5,
   "metadata": {},
   "outputs": [
    {
     "name": "stdout",
     "output_type": "stream",
     "text": [
      "1823250 English words.\n",
      "227 unique English words.\n",
      "10 Most common words in the English dataset:\n",
      "\"is\" \",\" \".\" \"in\" \"it\" \"during\" \"the\" \"but\" \"and\" \"sometimes\"\n",
      "\n",
      "1961295 French words.\n",
      "355 unique French words.\n",
      "10 Most common words in the French dataset:\n",
      "\"est\" \".\" \",\" \"en\" \"il\" \"les\" \"mais\" \"et\" \"la\" \"parfois\"\n"
     ]
    }
   ],
   "source": [
    "english_words_counter = collections.Counter([word for sentence in english_sentences for word in sentence.split()])\n",
    "french_words_counter = collections.Counter([word for sentence in french_sentences for word in sentence.split()])\n",
    "\n",
    "print('{} English words.'.format(len([word for sentence in english_sentences for word in sentence.split()])))\n",
    "print('{} unique English words.'.format(len(english_words_counter)))\n",
    "print('10 Most common words in the English dataset:')\n",
    "print('\"' + '\" \"'.join(list(zip(*english_words_counter.most_common(10)))[0]) + '\"')\n",
    "print()\n",
    "print('{} French words.'.format(len([word for sentence in french_sentences for word in sentence.split()])))\n",
    "print('{} unique French words.'.format(len(french_words_counter)))\n",
    "print('10 Most common words in the French dataset:')\n",
    "print('\"' + '\" \"'.join(list(zip(*french_words_counter.most_common(10)))[0]) + '\"')"
   ]
  },
  {
   "cell_type": "markdown",
   "metadata": {},
   "source": [
    "For comparison, _Alice's Adventures in Wonderland_ contains 2,766 unique words of a total of 15,500 words.\n",
    "## Preprocess\n",
    "For this project, you won't use text data as input to your model. Instead, you'll convert the text into sequences of integers using the following preprocess methods:\n",
    "1. Tokenize the words into ids\n",
    "2. Add padding to make all the sequences the same length.\n",
    "\n",
    "Time to start preprocessing the data...\n",
    "### Tokenize (IMPLEMENTATION)\n",
    "For a neural network to predict on text data, it first has to be turned into data it can understand. Text data like \"dog\" is a sequence of ASCII character encodings.  Since a neural network is a series of multiplication and addition operations, the input data needs to be number(s).\n",
    "\n",
    "We can turn each character into a number or each word into a number.  These are called character and word ids, respectively.  Character ids are used for character level models that generate text predictions for each character.  A word level model uses word ids that generate text predictions for each word.  Word level models tend to learn better, since they are lower in complexity, so we'll use those.\n",
    "\n",
    "Turn each sentence into a sequence of words ids using Keras's [`Tokenizer`](https://keras.io/preprocessing/text/#tokenizer) function. Use this function to tokenize `english_sentences` and `french_sentences` in the cell below.\n",
    "\n",
    "Running the cell will run `tokenize` on sample data and show output for debugging."
   ]
  },
  {
   "cell_type": "code",
   "execution_count": 4,
   "metadata": {},
   "outputs": [
    {
     "name": "stdout",
     "output_type": "stream",
     "text": [
      "{'the': 1, 'quick': 2, 'a': 3, 'brown': 4, 'fox': 5, 'jumps': 6, 'over': 7, 'lazy': 8, 'dog': 9, 'by': 10, 'jove': 11, 'my': 12, 'study': 13, 'of': 14, 'lexicography': 15, 'won': 16, 'prize': 17, 'this': 18, 'is': 19, 'short': 20, 'sentence': 21}\n",
      "\n",
      "Sequence 1 in x\n",
      "  Input:  The quick brown fox jumps over the lazy dog .\n",
      "  Output: [1, 2, 4, 5, 6, 7, 1, 8, 9]\n",
      "Sequence 2 in x\n",
      "  Input:  By Jove , my quick study of lexicography won a prize .\n",
      "  Output: [10, 11, 12, 2, 13, 14, 15, 16, 3, 17]\n",
      "Sequence 3 in x\n",
      "  Input:  This is a short sentence .\n",
      "  Output: [18, 19, 3, 20, 21]\n"
     ]
    }
   ],
   "source": [
    "def tokenize(x):\n",
    "    \"\"\"\n",
    "    Tokenize x\n",
    "    :param x: List of sentences/strings to be tokenized\n",
    "    :return: Tuple of (tokenized x data, tokenizer used to tokenize x)\n",
    "    \"\"\"\n",
    "    # TODO: Implement\n",
    "    x_tk = Tokenizer()\n",
    "    x_tk.fit_on_texts(x)\n",
    "    return x_tk.texts_to_sequences(x), x_tk\n",
    "\n",
    "tests.test_tokenize(tokenize)\n",
    "\n",
    "# Tokenize Example output\n",
    "text_sentences = [\n",
    "    'The quick brown fox jumps over the lazy dog .',\n",
    "    'By Jove , my quick study of lexicography won a prize .',\n",
    "    'This is a short sentence .']\n",
    "text_tokenized, text_tokenizer = tokenize(text_sentences)\n",
    "print(text_tokenizer.word_index)\n",
    "print()\n",
    "for sample_i, (sent, token_sent) in enumerate(zip(text_sentences, text_tokenized)):\n",
    "    print('Sequence {} in x'.format(sample_i + 1))\n",
    "    print('  Input:  {}'.format(sent))\n",
    "    print('  Output: {}'.format(token_sent))"
   ]
  },
  {
   "cell_type": "markdown",
   "metadata": {},
   "source": [
    "### Padding (IMPLEMENTATION)\n",
    "When batching the sequence of word ids together, each sequence needs to be the same length.  Since sentences are dynamic in length, we can add padding to the end of the sequences to make them the same length.\n",
    "\n",
    "Make sure all the English sequences have the same length and all the French sequences have the same length by adding padding to the **end** of each sequence using Keras's [`pad_sequences`](https://keras.io/preprocessing/sequence/#pad_sequences) function."
   ]
  },
  {
   "cell_type": "code",
   "execution_count": 5,
   "metadata": {},
   "outputs": [
    {
     "name": "stdout",
     "output_type": "stream",
     "text": [
      "Sequence 1 in x\n",
      "  Input:  [1 2 4 5 6 7 1 8 9]\n",
      "  Output: [1 2 4 5 6 7 1 8 9 0]\n",
      "Sequence 2 in x\n",
      "  Input:  [10 11 12  2 13 14 15 16  3 17]\n",
      "  Output: [10 11 12  2 13 14 15 16  3 17]\n",
      "Sequence 3 in x\n",
      "  Input:  [18 19  3 20 21]\n",
      "  Output: [18 19  3 20 21  0  0  0  0  0]\n"
     ]
    }
   ],
   "source": [
    "def pad(x, length=None):\n",
    "    \"\"\"\n",
    "    Pad x\n",
    "    :param x: List of sequences.\n",
    "    :param length: Length to pad the sequence to.  If None, use length of longest sequence in x.\n",
    "    :return: Padded numpy array of sequences\n",
    "    \"\"\"\n",
    "    # TODO: Implement\n",
    "    \n",
    "    if length is None:\n",
    "        length = max([len(sent) for sent in x])\n",
    "    \n",
    "    arr_seq = pad_sequences(x, maxlen=length, padding='post')\n",
    "    return arr_seq\n",
    "\n",
    "tests.test_pad(pad)\n",
    "\n",
    "# Pad Tokenized output\n",
    "test_pad = pad(text_tokenized)\n",
    "for sample_i, (token_sent, pad_sent) in enumerate(zip(text_tokenized, test_pad)):\n",
    "    print('Sequence {} in x'.format(sample_i + 1))\n",
    "    print('  Input:  {}'.format(np.array(token_sent)))\n",
    "    print('  Output: {}'.format(pad_sent))"
   ]
  },
  {
   "cell_type": "markdown",
   "metadata": {},
   "source": [
    "### Preprocess Pipeline\n",
    "Your focus for this project is to build neural network architecture, so we won't ask you to create a preprocess pipeline.  Instead, we've provided you with the implementation of the `preprocess` function."
   ]
  },
  {
   "cell_type": "code",
   "execution_count": 6,
   "metadata": {},
   "outputs": [
    {
     "name": "stdout",
     "output_type": "stream",
     "text": [
      "Data Preprocessed\n",
      "Max English sentence length: 15\n",
      "Max French sentence length: 21\n",
      "English vocabulary size: 199\n",
      "French vocabulary size: 344\n"
     ]
    }
   ],
   "source": [
    "def preprocess(x, y):\n",
    "    \"\"\"\n",
    "    Preprocess x and y\n",
    "    :param x: Feature List of sentences\n",
    "    :param y: Label List of sentences\n",
    "    :return: Tuple of (Preprocessed x, Preprocessed y, x tokenizer, y tokenizer)\n",
    "    \"\"\"\n",
    "    preprocess_x, x_tk = tokenize(x)\n",
    "    preprocess_y, y_tk = tokenize(y)\n",
    "\n",
    "    preprocess_x = pad(preprocess_x)\n",
    "    preprocess_y = pad(preprocess_y)\n",
    "\n",
    "    # Keras's sparse_categorical_crossentropy function requires the labels to be in 3 dimensions\n",
    "    preprocess_y = preprocess_y.reshape(*preprocess_y.shape, 1)\n",
    "\n",
    "    return preprocess_x, preprocess_y, x_tk, y_tk\n",
    "\n",
    "preproc_english_sentences, preproc_french_sentences, english_tokenizer, french_tokenizer =\\\n",
    "    preprocess(english_sentences, french_sentences)\n",
    "    \n",
    "max_english_sequence_length = preproc_english_sentences.shape[1]\n",
    "max_french_sequence_length = preproc_french_sentences.shape[1]\n",
    "english_vocab_size = len(english_tokenizer.word_index)\n",
    "french_vocab_size = len(french_tokenizer.word_index)\n",
    "\n",
    "print('Data Preprocessed')\n",
    "print(\"Max English sentence length:\", max_english_sequence_length)\n",
    "print(\"Max French sentence length:\", max_french_sequence_length)\n",
    "print(\"English vocabulary size:\", english_vocab_size)\n",
    "print(\"French vocabulary size:\", french_vocab_size)"
   ]
  },
  {
   "cell_type": "markdown",
   "metadata": {},
   "source": [
    "## Models\n",
    "In this section, you will experiment with various neural network architectures.\n",
    "You will begin by training four relatively simple architectures.\n",
    "- Model 1 is a simple RNN\n",
    "- Model 2 is a RNN with Embedding\n",
    "- Model 3 is a Bidirectional RNN\n",
    "- Model 4 is an optional Encoder-Decoder RNN\n",
    "\n",
    "After experimenting with the four simple architectures, you will construct a deeper architecture that is designed to outperform all four models.\n",
    "### Ids Back to Text\n",
    "The neural network will be translating the input to words ids, which isn't the final form we want.  We want the French translation.  The function `logits_to_text` will bridge the gab between the logits from the neural network to the French translation.  You'll be using this function to better understand the output of the neural network."
   ]
  },
  {
   "cell_type": "code",
   "execution_count": 7,
   "metadata": {},
   "outputs": [
    {
     "name": "stdout",
     "output_type": "stream",
     "text": [
      "`logits_to_text` function loaded.\n"
     ]
    }
   ],
   "source": [
    "def logits_to_text(logits, tokenizer):\n",
    "    \"\"\"\n",
    "    Turn logits from a neural network into text using the tokenizer\n",
    "    :param logits: Logits from a neural network\n",
    "    :param tokenizer: Keras Tokenizer fit on the labels\n",
    "    :return: String that represents the text of the logits\n",
    "    \"\"\"\n",
    "    index_to_words = {id: word for word, id in tokenizer.word_index.items()}\n",
    "    index_to_words[0] = '<PAD>'\n",
    "\n",
    "    return ' '.join([index_to_words[prediction] for prediction in np.argmax(logits, 1)])\n",
    "\n",
    "print('`logits_to_text` function loaded.')"
   ]
  },
  {
   "cell_type": "markdown",
   "metadata": {},
   "source": [
    "### Model 1: RNN (IMPLEMENTATION)\n",
    "![RNN](images/rnn.png)\n",
    "A basic RNN model is a good baseline for sequence data.  In this model, you'll build a RNN that translates English to French."
   ]
  },
  {
   "cell_type": "code",
   "execution_count": 17,
   "metadata": {},
   "outputs": [
    {
     "name": "stdout",
     "output_type": "stream",
     "text": [
      "Train on 110288 samples, validate on 27573 samples\n",
      "Epoch 1/20\n",
      "110288/110288 [==============================] - 21s 190us/step - loss: 3.2111 - acc: 0.4128 - val_loss: nan - val_acc: 0.4587\n",
      "Epoch 2/20\n",
      "110288/110288 [==============================] - 18s 164us/step - loss: 2.4413 - acc: 0.4740 - val_loss: nan - val_acc: 0.4859\n",
      "Epoch 3/20\n",
      "110288/110288 [==============================] - 18s 162us/step - loss: 2.2178 - acc: 0.5005 - val_loss: nan - val_acc: 0.5250\n",
      "Epoch 4/20\n",
      "110288/110288 [==============================] - 18s 161us/step - loss: 1.9798 - acc: 0.5427 - val_loss: nan - val_acc: 0.5624\n",
      "Epoch 5/20\n",
      "110288/110288 [==============================] - 18s 161us/step - loss: 1.8180 - acc: 0.5676 - val_loss: nan - val_acc: 0.5741\n",
      "Epoch 6/20\n",
      "110288/110288 [==============================] - 18s 161us/step - loss: 1.7153 - acc: 0.5761 - val_loss: nan - val_acc: 0.5801\n",
      "Epoch 7/20\n",
      "110288/110288 [==============================] - 18s 161us/step - loss: 1.6469 - acc: 0.5832 - val_loss: nan - val_acc: 0.5867\n",
      "Epoch 8/20\n",
      "110288/110288 [==============================] - 18s 163us/step - loss: 1.6043 - acc: 0.5917 - val_loss: nan - val_acc: 0.5950\n",
      "Epoch 9/20\n",
      "110288/110288 [==============================] - 18s 162us/step - loss: 1.5727 - acc: 0.5982 - val_loss: nan - val_acc: 0.5973\n",
      "Epoch 10/20\n",
      "110288/110288 [==============================] - 18s 163us/step - loss: 1.5462 - acc: 0.6009 - val_loss: nan - val_acc: 0.6069\n",
      "Epoch 11/20\n",
      "110288/110288 [==============================] - 18s 161us/step - loss: 1.5198 - acc: 0.6087 - val_loss: nan - val_acc: 0.6093\n",
      "Epoch 12/20\n",
      "110288/110288 [==============================] - 18s 162us/step - loss: 1.4929 - acc: 0.6130 - val_loss: nan - val_acc: 0.6125\n",
      "Epoch 13/20\n",
      "110288/110288 [==============================] - 18s 161us/step - loss: 1.4701 - acc: 0.6177 - val_loss: nan - val_acc: 0.6161\n",
      "Epoch 14/20\n",
      "110288/110288 [==============================] - 18s 163us/step - loss: 1.4503 - acc: 0.6197 - val_loss: nan - val_acc: 0.6222\n",
      "Epoch 15/20\n",
      "110288/110288 [==============================] - 18s 164us/step - loss: 1.4331 - acc: 0.6226 - val_loss: nan - val_acc: 0.6206\n",
      "Epoch 16/20\n",
      "110288/110288 [==============================] - 18s 162us/step - loss: 1.4176 - acc: 0.6243 - val_loss: nan - val_acc: 0.6209\n",
      "Epoch 17/20\n",
      "110288/110288 [==============================] - 18s 161us/step - loss: 1.4034 - acc: 0.6259 - val_loss: nan - val_acc: 0.6278\n",
      "Epoch 18/20\n",
      "110288/110288 [==============================] - 18s 161us/step - loss: 1.3901 - acc: 0.6284 - val_loss: nan - val_acc: 0.6314\n",
      "Epoch 19/20\n",
      "110288/110288 [==============================] - 18s 162us/step - loss: 1.3774 - acc: 0.6300 - val_loss: nan - val_acc: 0.6319\n",
      "Epoch 20/20\n",
      "110288/110288 [==============================] - 18s 161us/step - loss: 1.3650 - acc: 0.6337 - val_loss: nan - val_acc: 0.6350\n",
      "new jersey est parfois chaud en l' et il est est en en <PAD> <PAD> <PAD> <PAD> <PAD> <PAD> <PAD> <PAD>\n"
     ]
    }
   ],
   "source": [
    "def simple_model(input_shape, output_sequence_length, english_vocab_size, french_vocab_size):\n",
    "    \"\"\"\n",
    "    Build and train a basic RNN on x and y\n",
    "    :param input_shape: Tuple of input shape\n",
    "    :param output_sequence_length: Length of output sequence\n",
    "    :param english_vocab_size: Number of unique English words in the dataset\n",
    "    :param french_vocab_size: Number of unique French words in the dataset\n",
    "    :return: Keras model built, but not trained\n",
    "    \"\"\"\n",
    "    # Learning rate\n",
    "    learning_rate = 1e-3\n",
    "\n",
    "    # Input sequence\n",
    "    input_seq = Input(input_shape[1:])\n",
    "    \n",
    "    # RNN\n",
    "    rnn = LSTM(output_sequence_length, return_sequences=True)(input_seq)\n",
    "    logits = TimeDistributed(Dense(french_vocab_size))(rnn)\n",
    "\n",
    "    # Model\n",
    "    model = Model(input_seq, Activation('softmax')(logits))\n",
    "    model.compile(loss=sparse_categorical_crossentropy,\n",
    "                  optimizer=Adam(learning_rate),\n",
    "                  metrics=['accuracy'])\n",
    "    return model\n",
    "\n",
    "tests.test_simple_model(simple_model)\n",
    "\n",
    "# Reshaping the input to work with a basic RNN\n",
    "tmp_x = pad(preproc_english_sentences, max_french_sequence_length)\n",
    "tmp_x = tmp_x.reshape((-1, preproc_french_sentences.shape[-2], 1))\n",
    "\n",
    "# Train the neural network\n",
    "simple_rnn_model = simple_model(\n",
    "    tmp_x.shape,\n",
    "    max_french_sequence_length,\n",
    "    english_vocab_size,\n",
    "    french_vocab_size)\n",
    "\n",
    "simple_rnn_model.fit(tmp_x, preproc_french_sentences, batch_size=256, epochs=20, validation_split=0.2)\n",
    "\n",
    "# Print prediction(s)\n",
    "print(logits_to_text(simple_rnn_model.predict(tmp_x[:1])[0], french_tokenizer))"
   ]
  },
  {
   "cell_type": "markdown",
   "metadata": {},
   "source": [
    "### Model 2: Embedding (IMPLEMENTATION)\n",
    "![RNN](images/embedding.png)\n",
    "You've turned the words into ids, but there's a better representation of a word.  This is called word embeddings.  An embedding is a vector representation of the word that is close to similar words in n-dimensional space, where the n represents the size of the embedding vectors.\n",
    "\n",
    "In this model, you'll create a RNN model using embedding."
   ]
  },
  {
   "cell_type": "code",
   "execution_count": 11,
   "metadata": {},
   "outputs": [
    {
     "name": "stdout",
     "output_type": "stream",
     "text": [
      "Train on 110288 samples, validate on 27573 samples\n",
      "Epoch 1/20\n",
      "110288/110288 [==============================] - 19s 176us/step - loss: 3.4075 - acc: 0.4063 - val_loss: nan - val_acc: 0.4629\n",
      "Epoch 2/20\n",
      "110288/110288 [==============================] - 19s 174us/step - loss: 2.1382 - acc: 0.5214 - val_loss: nan - val_acc: 0.5782\n",
      "Epoch 3/20\n",
      "110288/110288 [==============================] - 19s 175us/step - loss: 1.5581 - acc: 0.6202 - val_loss: nan - val_acc: 0.6589\n",
      "Epoch 4/20\n",
      "110288/110288 [==============================] - 19s 175us/step - loss: 1.2331 - acc: 0.6944 - val_loss: nan - val_acc: 0.7242\n",
      "Epoch 5/20\n",
      "110288/110288 [==============================] - 19s 174us/step - loss: 1.0297 - acc: 0.7444 - val_loss: nan - val_acc: 0.7612\n",
      "Epoch 6/20\n",
      "110288/110288 [==============================] - 19s 174us/step - loss: 0.8940 - acc: 0.7715 - val_loss: nan - val_acc: 0.7822\n",
      "Epoch 7/20\n",
      "110288/110288 [==============================] - 19s 173us/step - loss: 0.8041 - acc: 0.7893 - val_loss: nan - val_acc: 0.7966\n",
      "Epoch 8/20\n",
      "110288/110288 [==============================] - 19s 175us/step - loss: 0.7418 - acc: 0.8004 - val_loss: nan - val_acc: 0.8056\n",
      "Epoch 9/20\n",
      "110288/110288 [==============================] - 19s 176us/step - loss: 0.6956 - acc: 0.8092 - val_loss: nan - val_acc: 0.8134\n",
      "Epoch 10/20\n",
      "110288/110288 [==============================] - 19s 174us/step - loss: 0.6581 - acc: 0.8166 - val_loss: nan - val_acc: 0.8209\n",
      "Epoch 11/20\n",
      "110288/110288 [==============================] - 19s 173us/step - loss: 0.6276 - acc: 0.8229 - val_loss: nan - val_acc: 0.8268\n",
      "Epoch 12/20\n",
      "110288/110288 [==============================] - 19s 173us/step - loss: 0.6018 - acc: 0.8286 - val_loss: nan - val_acc: 0.8326\n",
      "Epoch 13/20\n",
      "110288/110288 [==============================] - 19s 174us/step - loss: 0.5804 - acc: 0.8335 - val_loss: nan - val_acc: 0.8374\n",
      "Epoch 14/20\n",
      "110288/110288 [==============================] - 19s 174us/step - loss: 0.5628 - acc: 0.8379 - val_loss: nan - val_acc: 0.8403\n",
      "Epoch 15/20\n",
      "110288/110288 [==============================] - 19s 174us/step - loss: 0.5472 - acc: 0.8418 - val_loss: nan - val_acc: 0.8424\n",
      "Epoch 16/20\n",
      "110288/110288 [==============================] - 19s 174us/step - loss: 0.5337 - acc: 0.8450 - val_loss: nan - val_acc: 0.8468\n",
      "Epoch 17/20\n",
      "110288/110288 [==============================] - 19s 176us/step - loss: 0.5223 - acc: 0.8473 - val_loss: nan - val_acc: 0.8483\n",
      "Epoch 18/20\n",
      "110288/110288 [==============================] - 19s 176us/step - loss: 0.5113 - acc: 0.8501 - val_loss: nan - val_acc: 0.8511\n",
      "Epoch 19/20\n",
      "110288/110288 [==============================] - 19s 176us/step - loss: 0.5029 - acc: 0.8523 - val_loss: nan - val_acc: 0.8512\n",
      "Epoch 20/20\n",
      "110288/110288 [==============================] - 19s 174us/step - loss: 0.4936 - acc: 0.8549 - val_loss: nan - val_acc: 0.8563\n",
      "new jersey est parfois calme en l' de et il est neigeux en avril <PAD> <PAD> <PAD> <PAD> <PAD> <PAD> <PAD>\n"
     ]
    }
   ],
   "source": [
    "def embed_model(input_shape, output_sequence_length, english_vocab_size, french_vocab_size):\n",
    "    \"\"\"\n",
    "    Build and train a RNN model using word embedding on x and y\n",
    "    :param input_shape: Tuple of input shape\n",
    "    :param output_sequence_length: Length of output sequence\n",
    "    :param english_vocab_size: Number of unique English words in the dataset\n",
    "    :param french_vocab_size: Number of unique French words in the dataset\n",
    "    :return: Keras model built, but not trained\n",
    "    \"\"\"\n",
    "\n",
    "    # Learnign rate\n",
    "    learning_rate = 1e-3\n",
    "\n",
    "    # Input sequence\n",
    "    input_seq = Input(input_shape[1:])\n",
    " \n",
    "    # Embedding layer\n",
    "    embedding_layer = Embedding(input_dim=english_vocab_size, output_dim = output_sequence_length, \\\n",
    "                        mask_zero=False)(input_seq)\n",
    "    # RNN\n",
    "    rnn = LSTM(output_sequence_length, return_sequences=True)(embedding_layer)\n",
    "    logits = TimeDistributed(Dense(french_vocab_size))(rnn)\n",
    "\n",
    "    # Model\n",
    "    model = Model(input_seq, Activation('softmax')(logits))\n",
    "    model.compile(loss=sparse_categorical_crossentropy,\n",
    "                  optimizer=Adam(learning_rate),\n",
    "                  metrics=['accuracy'])\n",
    "        \n",
    "    return model\n",
    "\n",
    "tests.test_embed_model(embed_model)\n",
    "\n",
    "# Reshaping the input to work with a basic RNN\n",
    "tmp_x = pad(preproc_english_sentences, max_french_sequence_length)\n",
    "tmp_x = tmp_x.reshape((-1, preproc_french_sentences.shape[-2]))\n",
    "\n",
    "# Train the neural network\n",
    "embed_rnn_model = embed_model(\n",
    "    tmp_x.shape,\n",
    "    max_french_sequence_length,\n",
    "    english_vocab_size,\n",
    "    french_vocab_size)\n",
    "\n",
    "embed_rnn_model.fit(tmp_x, preproc_french_sentences, batch_size=256, epochs=20, validation_split=0.2)\n",
    "\n",
    "# Print prediction(s)\n",
    "print(logits_to_text(embed_rnn_model.predict(tmp_x[:1])[0], french_tokenizer))"
   ]
  },
  {
   "cell_type": "markdown",
   "metadata": {},
   "source": [
    "### Model 3: Bidirectional RNNs (IMPLEMENTATION)\n",
    "![RNN](images/bidirectional.png)\n",
    "One restriction of a RNN is that it can't see the future input, only the past.  This is where bidirectional recurrent neural networks come in.  They are able to see the future data."
   ]
  },
  {
   "cell_type": "code",
   "execution_count": 12,
   "metadata": {},
   "outputs": [
    {
     "name": "stdout",
     "output_type": "stream",
     "text": [
      "Train on 110288 samples, validate on 27573 samples\n",
      "Epoch 1/20\n",
      "110288/110288 [==============================] - 32s 292us/step - loss: 2.8710 - acc: 0.4612 - val_loss: nan - val_acc: 0.5313\n",
      "Epoch 2/20\n",
      "110288/110288 [==============================] - 31s 278us/step - loss: 1.8698 - acc: 0.5484 - val_loss: nan - val_acc: 0.5807\n",
      "Epoch 3/20\n",
      "110288/110288 [==============================] - 31s 280us/step - loss: 1.6383 - acc: 0.5978 - val_loss: nan - val_acc: 0.6076\n",
      "Epoch 4/20\n",
      "110288/110288 [==============================] - 31s 277us/step - loss: 1.5147 - acc: 0.6112 - val_loss: nan - val_acc: 0.6174\n",
      "Epoch 5/20\n",
      "110288/110288 [==============================] - 31s 277us/step - loss: 1.4407 - acc: 0.6198 - val_loss: nan - val_acc: 0.6230\n",
      "Epoch 6/20\n",
      "110288/110288 [==============================] - 31s 280us/step - loss: 1.3877 - acc: 0.6269 - val_loss: nan - val_acc: 0.6310\n",
      "Epoch 7/20\n",
      "110288/110288 [==============================] - 31s 279us/step - loss: 1.3455 - acc: 0.6338 - val_loss: nan - val_acc: 0.6362\n",
      "Epoch 8/20\n",
      "110288/110288 [==============================] - 31s 277us/step - loss: 1.3115 - acc: 0.6387 - val_loss: nan - val_acc: 0.6409\n",
      "Epoch 9/20\n",
      "110288/110288 [==============================] - 30s 275us/step - loss: 1.2830 - acc: 0.6428 - val_loss: nan - val_acc: 0.6441\n",
      "Epoch 10/20\n",
      "110288/110288 [==============================] - 30s 276us/step - loss: 1.2576 - acc: 0.6471 - val_loss: nan - val_acc: 0.6504\n",
      "Epoch 11/20\n",
      "110288/110288 [==============================] - 30s 275us/step - loss: 1.2349 - acc: 0.6513 - val_loss: nan - val_acc: 0.6533\n",
      "Epoch 12/20\n",
      "110288/110288 [==============================] - 31s 282us/step - loss: 1.2161 - acc: 0.6549 - val_loss: nan - val_acc: 0.6578\n",
      "Epoch 13/20\n",
      "110288/110288 [==============================] - 31s 282us/step - loss: 1.2001 - acc: 0.6584 - val_loss: nan - val_acc: 0.6594\n",
      "Epoch 14/20\n",
      "110288/110288 [==============================] - 31s 281us/step - loss: 1.1864 - acc: 0.6610 - val_loss: nan - val_acc: 0.6618\n",
      "Epoch 15/20\n",
      "110288/110288 [==============================] - 31s 282us/step - loss: 1.1741 - acc: 0.6627 - val_loss: nan - val_acc: 0.6625\n",
      "Epoch 16/20\n",
      "110288/110288 [==============================] - 31s 279us/step - loss: 1.1630 - acc: 0.6645 - val_loss: nan - val_acc: 0.6669\n",
      "Epoch 17/20\n",
      "110288/110288 [==============================] - 31s 278us/step - loss: 1.1528 - acc: 0.6661 - val_loss: nan - val_acc: 0.6662\n",
      "Epoch 18/20\n",
      "110288/110288 [==============================] - 31s 281us/step - loss: 1.1434 - acc: 0.6678 - val_loss: nan - val_acc: 0.6680\n",
      "Epoch 19/20\n",
      "110288/110288 [==============================] - 30s 275us/step - loss: 1.1348 - acc: 0.6693 - val_loss: nan - val_acc: 0.6704\n",
      "Epoch 20/20\n",
      "110288/110288 [==============================] - 31s 278us/step - loss: 1.1270 - acc: 0.6707 - val_loss: nan - val_acc: 0.6712\n",
      "new jersey est parfois calme en en et il est est en en <PAD> <PAD> <PAD> <PAD> <PAD> <PAD> <PAD> <PAD>\n"
     ]
    }
   ],
   "source": [
    "def bd_model(input_shape, output_sequence_length, english_vocab_size, french_vocab_size):\n",
    "    \"\"\"\n",
    "    Build and train a bidirectional RNN model on x and y\n",
    "    :param input_shape: Tuple of input shape\n",
    "    :param output_sequence_length: Length of output sequence\n",
    "    :param english_vocab_size: Number of unique English words in the dataset\n",
    "    :param french_vocab_size: Number of unique French words in the dataset\n",
    "    :return: Keras model built, but not trained\n",
    "    \"\"\"\n",
    "    # Learning rate\n",
    "    learning_rate = 1e-3\n",
    "    \n",
    "    # Input sequence\n",
    "    input_seq = Input(input_shape[1:])\n",
    "    \n",
    "    # Bi-directonal layer\n",
    "    bd_layer = Bidirectional(LSTM(output_sequence_length, return_sequences=True))(input_seq)\n",
    "    logits = TimeDistributed(Dense(french_vocab_size))(bd_layer)\n",
    "\n",
    "    # Model\n",
    "    model = Model(input_seq, Activation('softmax')(logits))\n",
    "    model.compile(loss=sparse_categorical_crossentropy,\n",
    "                  optimizer=Adam(learning_rate),\n",
    "                  metrics=['accuracy'])\n",
    "        \n",
    "    return model\n",
    "\n",
    "tests.test_bd_model(bd_model)\n",
    "\n",
    "# Reshaping the input to work with a basic RNN\n",
    "tmp_x = pad(preproc_english_sentences, max_french_sequence_length)\n",
    "tmp_x = tmp_x.reshape((-1, preproc_french_sentences.shape[-2], 1))\n",
    "\n",
    "# Train the neural network\n",
    "bd_rnn_model = bd_model(\n",
    "    tmp_x.shape,\n",
    "    max_french_sequence_length,\n",
    "    english_vocab_size,\n",
    "    french_vocab_size)\n",
    "\n",
    "bd_rnn_model.fit(tmp_x, preproc_french_sentences, batch_size=256, epochs=20, validation_split=0.2)\n",
    "\n",
    "# Print prediction(s)\n",
    "print(logits_to_text(bd_rnn_model.predict(tmp_x[:1])[0], french_tokenizer))"
   ]
  },
  {
   "cell_type": "markdown",
   "metadata": {},
   "source": [
    "### Model 4: Encoder-Decoder (OPTIONAL)\n",
    "Time to look at encoder-decoder models.  This model is made up of an encoder and decoder. The encoder creates a matrix representation of the sentence.  The decoder takes this matrix as input and predicts the translation as output.\n",
    "\n",
    "Create an encoder-decoder model in the cell below."
   ]
  },
  {
   "cell_type": "code",
   "execution_count": 13,
   "metadata": {},
   "outputs": [
    {
     "name": "stdout",
     "output_type": "stream",
     "text": [
      "Train on 110288 samples, validate on 27573 samples\n",
      "Epoch 1/20\n",
      "110288/110288 [==============================] - 62s 561us/step - loss: 2.2483 - acc: 0.5083 - val_loss: nan - val_acc: 0.5636\n",
      "Epoch 2/20\n",
      "110288/110288 [==============================] - 61s 550us/step - loss: 1.5488 - acc: 0.5975 - val_loss: nan - val_acc: 0.6174\n",
      "Epoch 3/20\n",
      "110288/110288 [==============================] - 61s 554us/step - loss: 1.3745 - acc: 0.6250 - val_loss: nan - val_acc: 0.6369\n",
      "Epoch 4/20\n",
      "110288/110288 [==============================] - 61s 550us/step - loss: 1.2920 - acc: 0.6409 - val_loss: nan - val_acc: 0.6422\n",
      "Epoch 5/20\n",
      "110288/110288 [==============================] - 60s 546us/step - loss: 1.2414 - acc: 0.6496 - val_loss: nan - val_acc: 0.6582\n",
      "Epoch 6/20\n",
      "110288/110288 [==============================] - 60s 548us/step - loss: 1.1951 - acc: 0.6589 - val_loss: nan - val_acc: 0.6669\n",
      "Epoch 7/20\n",
      "110288/110288 [==============================] - 61s 551us/step - loss: 1.1516 - acc: 0.6684 - val_loss: nan - val_acc: 0.6746\n",
      "Epoch 8/20\n",
      "110288/110288 [==============================] - 60s 548us/step - loss: 1.1163 - acc: 0.6757 - val_loss: nan - val_acc: 0.6743\n",
      "Epoch 9/20\n",
      "110288/110288 [==============================] - 61s 554us/step - loss: 1.0818 - acc: 0.6823 - val_loss: nan - val_acc: 0.6832\n",
      "Epoch 10/20\n",
      "110288/110288 [==============================] - 61s 553us/step - loss: 1.0486 - acc: 0.6884 - val_loss: nan - val_acc: 0.6861\n",
      "Epoch 11/20\n",
      "110288/110288 [==============================] - 61s 549us/step - loss: 1.0188 - acc: 0.6934 - val_loss: nan - val_acc: 0.6976\n",
      "Epoch 12/20\n",
      "110288/110288 [==============================] - 61s 549us/step - loss: 0.9961 - acc: 0.6975 - val_loss: nan - val_acc: 0.6998\n",
      "Epoch 13/20\n",
      "110288/110288 [==============================] - 61s 550us/step - loss: 0.9678 - acc: 0.7037 - val_loss: nan - val_acc: 0.7096\n",
      "Epoch 14/20\n",
      "110288/110288 [==============================] - 61s 551us/step - loss: 0.9467 - acc: 0.7092 - val_loss: nan - val_acc: 0.7143\n",
      "Epoch 15/20\n",
      "110288/110288 [==============================] - 61s 552us/step - loss: 0.9224 - acc: 0.7159 - val_loss: nan - val_acc: 0.7197\n",
      "Epoch 16/20\n",
      "110288/110288 [==============================] - 60s 547us/step - loss: 0.9018 - acc: 0.7207 - val_loss: nan - val_acc: 0.7112\n",
      "Epoch 17/20\n",
      "110288/110288 [==============================] - 61s 550us/step - loss: 0.8765 - acc: 0.7265 - val_loss: nan - val_acc: 0.7295\n",
      "Epoch 18/20\n",
      "110288/110288 [==============================] - 61s 551us/step - loss: 0.8542 - acc: 0.7307 - val_loss: nan - val_acc: 0.7345\n",
      "Epoch 19/20\n",
      "110288/110288 [==============================] - 60s 548us/step - loss: 0.8336 - acc: 0.7346 - val_loss: nan - val_acc: 0.7375\n",
      "Epoch 20/20\n",
      "110288/110288 [==============================] - 61s 551us/step - loss: 0.8180 - acc: 0.7376 - val_loss: nan - val_acc: 0.7417\n",
      "new jersey est parfois parfois au mois de il et il est en <PAD> <PAD> <PAD> <PAD> <PAD> <PAD> <PAD> <PAD>\n"
     ]
    }
   ],
   "source": [
    "def encdec_model(input_shape, output_sequence_length, english_vocab_size, french_vocab_size):\n",
    "    \"\"\"\n",
    "    Build and train an encoder-decoder model on x and y\n",
    "    :param input_shape: Tuple of input shape\n",
    "    :param output_sequence_length: Length of output sequence\n",
    "    :param english_vocab_size: Number of unique English words in the dataset\n",
    "    :param french_vocab_size: Number of unique French words in the dataset\n",
    "    :return: Keras model built, but not trained\n",
    "    \"\"\"\n",
    "    # Learning rate\n",
    "    learning_rate = 1e-3\n",
    "    \n",
    "    # Latent dimension\n",
    "    latent_dim = 64\n",
    "\n",
    "    # Input sequence\n",
    "    input_seq = Input(input_shape[1:])\n",
    "        \n",
    "    # Encoder\n",
    "    encoder = Bidirectional(LSTM(latent_dim))(input_seq)\n",
    "    repeater = RepeatVector(output_sequence_length)(encoder)\n",
    "    \n",
    "    # Decoder\n",
    "    decoder = Bidirectional(LSTM(latent_dim, return_sequences=True))(repeater)\n",
    "    logits = TimeDistributed(Dense(french_vocab_size, activation='softmax'))(decoder)\n",
    "    \n",
    "    # Model\n",
    "    model= Model(inputs=input_seq, outputs=logits)\n",
    "    model.compile(loss=sparse_categorical_crossentropy,\n",
    "                  optimizer=Adam(learning_rate),\n",
    "                  metrics=['accuracy'])\n",
    "    \n",
    "    return model\n",
    "\n",
    "tests.test_encdec_model(encdec_model)\n",
    "\n",
    "\n",
    "# OPTIONAL: Train and Print prediction(s)\n",
    "\n",
    "# Reshaping the input to work with a basic RNN\n",
    "tmp_x = pad(preproc_english_sentences, max_french_sequence_length)\n",
    "tmp_x = tmp_x.reshape((-1, preproc_french_sentences.shape[-2], 1)) \n",
    "\n",
    "# Train the neural network\n",
    "encdec_rnn_model = encdec_model(\n",
    "    tmp_x.shape,\n",
    "    max_french_sequence_length,\n",
    "    english_vocab_size,\n",
    "    french_vocab_size)\n",
    "\n",
    "encdec_rnn_model.fit(tmp_x, preproc_french_sentences, batch_size=256, epochs=20, validation_split=0.2)\n",
    "\n",
    "# Print prediction(s)\n",
    "print(logits_to_text(encdec_rnn_model.predict(tmp_x[:1])[0], french_tokenizer))"
   ]
  },
  {
   "cell_type": "markdown",
   "metadata": {},
   "source": [
    "### Model 5: Custom (IMPLEMENTATION)\n",
    "Use everything you learned from the previous models to create a model that incorporates embedding and a bidirectional rnn into one model."
   ]
  },
  {
   "cell_type": "code",
   "execution_count": 13,
   "metadata": {},
   "outputs": [
    {
     "name": "stdout",
     "output_type": "stream",
     "text": [
      "Final Model Loaded\n",
      "_________________________________________________________________\n",
      "Layer (type)                 Output Shape              Param #   \n",
      "=================================================================\n",
      "input_8 (InputLayer)         (None, 21)                0         \n",
      "_________________________________________________________________\n",
      "embedding_8 (Embedding)      (None, 21, 200)           39800     \n",
      "_________________________________________________________________\n",
      "bidirectional_14 (Bidirectio (None, 512)               935936    \n",
      "_________________________________________________________________\n",
      "dense_11 (Dense)             (None, 344)               176472    \n",
      "_________________________________________________________________\n",
      "repeat_vector_8 (RepeatVecto (None, 21, 344)           0         \n",
      "_________________________________________________________________\n",
      "bidirectional_15 (Bidirectio (None, 21, 512)           1230848   \n",
      "_________________________________________________________________\n",
      "time_distributed_7 (TimeDist (None, 21, 344)           176472    \n",
      "=================================================================\n",
      "Total params: 2,559,528\n",
      "Trainable params: 2,559,528\n",
      "Non-trainable params: 0\n",
      "_________________________________________________________________\n",
      "Train on 110288 samples, validate on 27573 samples\n",
      "Epoch 1/15\n",
      "110288/110288 [==============================] - 70s 634us/step - loss: 2.2123 - acc: 0.5190 - val_loss: nan - val_acc: 0.6086\n",
      "Epoch 2/15\n",
      "110288/110288 [==============================] - 68s 615us/step - loss: 1.2569 - acc: 0.6564 - val_loss: nan - val_acc: 0.7051\n",
      "Epoch 3/15\n",
      "110288/110288 [==============================] - 68s 615us/step - loss: 0.9601 - acc: 0.7233 - val_loss: nan - val_acc: 0.7522\n",
      "Epoch 4/15\n",
      "110288/110288 [==============================] - 68s 615us/step - loss: 0.7671 - acc: 0.7717 - val_loss: nan - val_acc: 0.8040\n",
      "Epoch 5/15\n",
      "110288/110288 [==============================] - 68s 615us/step - loss: 0.6095 - acc: 0.8159 - val_loss: nan - val_acc: 0.8409\n",
      "Epoch 6/15\n",
      "110288/110288 [==============================] - 68s 615us/step - loss: 0.4937 - acc: 0.8499 - val_loss: nan - val_acc: 0.8726\n",
      "Epoch 7/15\n",
      "110288/110288 [==============================] - 68s 614us/step - loss: 0.3862 - acc: 0.8835 - val_loss: nan - val_acc: 0.9063\n",
      "Epoch 8/15\n",
      "110288/110288 [==============================] - 68s 615us/step - loss: 0.3049 - acc: 0.9100 - val_loss: nan - val_acc: 0.9302\n",
      "Epoch 9/15\n",
      "110288/110288 [==============================] - 68s 615us/step - loss: 0.2407 - acc: 0.9307 - val_loss: nan - val_acc: 0.9411\n",
      "Epoch 10/15\n",
      "110288/110288 [==============================] - 68s 615us/step - loss: 0.1974 - acc: 0.9425 - val_loss: nan - val_acc: 0.9514\n",
      "Epoch 11/15\n",
      "110288/110288 [==============================] - 68s 615us/step - loss: 0.1687 - acc: 0.9505 - val_loss: nan - val_acc: 0.9566\n",
      "Epoch 12/15\n",
      "110288/110288 [==============================] - 68s 615us/step - loss: 0.1458 - acc: 0.9567 - val_loss: nan - val_acc: 0.9600\n",
      "Epoch 13/15\n",
      "110288/110288 [==============================] - 68s 615us/step - loss: 0.1296 - acc: 0.9613 - val_loss: nan - val_acc: 0.9645\n",
      "Epoch 14/15\n",
      "110288/110288 [==============================] - 68s 615us/step - loss: 0.1153 - acc: 0.9652 - val_loss: nan - val_acc: 0.9679\n",
      "Epoch 15/15\n",
      "110288/110288 [==============================] - 68s 615us/step - loss: 0.1064 - acc: 0.9678 - val_loss: nan - val_acc: 0.9675\n",
      "new jersey est parfois calme pendant l' et il est et en avril <PAD> <PAD> <PAD> <PAD> <PAD> <PAD> <PAD> <PAD>\n"
     ]
    }
   ],
   "source": [
    "def model_final(input_shape, output_sequence_length, english_vocab_size, french_vocab_size):\n",
    "    \"\"\"\n",
    "    Build and train a model that incorporates embedding, encoder-decoder, and bidirectional RNN on x and y\n",
    "    :param input_shape: Tuple of input shape\n",
    "    :param output_sequence_length: Length of output sequence\n",
    "    :param english_vocab_size: Number of unique English words in the dataset\n",
    "    :param french_vocab_size: Number of unique French words in the dataset\n",
    "    :return: Keras model built, but not trained\n",
    "    \"\"\"\n",
    "    # Learning rate\n",
    "    learning_rate = 1e-3\n",
    "    \n",
    "    # Latent dimension - increased from the previous model\n",
    "    latent_dim = 256\n",
    "\n",
    "    # Input sequence\n",
    "    input_seq = Input(input_shape[1:])\n",
    "    \n",
    "    # Embedding layer - embedding dimension set at 200\n",
    "    embedding_layer = Embedding(input_dim=english_vocab_size, output_dim=200, \\\n",
    "                        input_length=output_sequence_length, mask_zero=False)(input_seq)\n",
    " \n",
    "    # Encoder\n",
    "    encoder = Bidirectional(LSTM(latent_dim))(embedding_layer)\n",
    "    dense = Dense(french_vocab_size, activation='relu')(encoder)\n",
    "    repeater = RepeatVector(output_sequence_length)(dense)\n",
    "    \n",
    "    # Decoder - add the dropout rate to address overfitting\n",
    "    decoder = Bidirectional(LSTM(latent_dim, return_sequences=True, dropout = 0.2))(repeater)\n",
    "    logits = TimeDistributed(Dense(french_vocab_size, activation='softmax'))(decoder)\n",
    "    \n",
    "    # Model\n",
    "    model = Model(inputs=input_seq, outputs=logits)\n",
    "    model.compile(loss=sparse_categorical_crossentropy,\n",
    "                  optimizer=Adam(learning_rate),\n",
    "                  metrics=['accuracy'])\n",
    "   \n",
    "    return model\n",
    "\n",
    "tests.test_model_final(model_final)\n",
    "\n",
    "print('Final Model Loaded')\n",
    "\n",
    "# TODO: Train the final model\n",
    "\n",
    "# Reshaping the input to work with a basic RNN\n",
    "tmp_x = pad(preproc_english_sentences, max_french_sequence_length)\n",
    "tmp_x = tmp_x.reshape((-1, preproc_french_sentences.shape[-2]))\n",
    "\n",
    "# Train the neural network\n",
    "final_rnn_model = model_final(\n",
    "    tmp_x.shape,\n",
    "    max_french_sequence_length,\n",
    "    english_vocab_size,\n",
    "    french_vocab_size)\n",
    "\n",
    "# print model summary\n",
    "\n",
    "final_rnn_model.summary()\n",
    "\n",
    "# Fit model - increase batch size and decrease the number of epochs\n",
    "final_rnn_model.fit(tmp_x, preproc_french_sentences, batch_size=512, epochs=15, validation_split=0.2)\n",
    "\n",
    "# Print prediction(s)\n",
    "print(logits_to_text(final_rnn_model.predict(tmp_x[:1])[0], french_tokenizer))"
   ]
  },
  {
   "cell_type": "markdown",
   "metadata": {},
   "source": [
    "## Prediction (IMPLEMENTATION)"
   ]
  },
  {
   "cell_type": "code",
   "execution_count": 15,
   "metadata": {},
   "outputs": [
    {
     "name": "stdout",
     "output_type": "stream",
     "text": [
      "_________________________________________________________________\n",
      "Layer (type)                 Output Shape              Param #   \n",
      "=================================================================\n",
      "input_10 (InputLayer)        (None, 15)                0         \n",
      "_________________________________________________________________\n",
      "embedding_10 (Embedding)     (None, 21, 200)           40000     \n",
      "_________________________________________________________________\n",
      "bidirectional_18 (Bidirectio (None, 512)               935936    \n",
      "_________________________________________________________________\n",
      "dense_15 (Dense)             (None, 345)               176985    \n",
      "_________________________________________________________________\n",
      "repeat_vector_10 (RepeatVect (None, 21, 345)           0         \n",
      "_________________________________________________________________\n",
      "bidirectional_19 (Bidirectio (None, 21, 512)           1232896   \n",
      "_________________________________________________________________\n",
      "time_distributed_9 (TimeDist (None, 21, 345)           176985    \n",
      "=================================================================\n",
      "Total params: 2,562,802\n",
      "Trainable params: 2,562,802\n",
      "Non-trainable params: 0\n",
      "_________________________________________________________________\n",
      "Train on 110288 samples, validate on 27573 samples\n",
      "Epoch 1/15\n",
      "110288/110288 [==============================] - 63s 570us/step - loss: 2.0986 - acc: 0.5278 - val_loss: 1.4140 - val_acc: 0.6234\n",
      "Epoch 2/15\n",
      "110288/110288 [==============================] - 60s 546us/step - loss: 1.2071 - acc: 0.6746 - val_loss: 1.0063 - val_acc: 0.7178\n",
      "Epoch 3/15\n",
      "110288/110288 [==============================] - 60s 546us/step - loss: 0.9054 - acc: 0.7403 - val_loss: 0.7854 - val_acc: 0.7699\n",
      "Epoch 4/15\n",
      "110288/110288 [==============================] - 60s 547us/step - loss: 0.7069 - acc: 0.7913 - val_loss: 0.6031 - val_acc: 0.8217\n",
      "Epoch 5/15\n",
      "110288/110288 [==============================] - 60s 547us/step - loss: 0.5492 - acc: 0.8369 - val_loss: 0.4680 - val_acc: 0.8654\n",
      "Epoch 6/15\n",
      "110288/110288 [==============================] - 60s 546us/step - loss: 0.4127 - acc: 0.8794 - val_loss: 0.3459 - val_acc: 0.9009\n",
      "Epoch 7/15\n",
      "110288/110288 [==============================] - 60s 547us/step - loss: 0.3190 - acc: 0.9072 - val_loss: 0.2612 - val_acc: 0.9264\n",
      "Epoch 8/15\n",
      "110288/110288 [==============================] - 60s 547us/step - loss: 0.2497 - acc: 0.9278 - val_loss: 0.2080 - val_acc: 0.9403\n",
      "Epoch 9/15\n",
      "110288/110288 [==============================] - 60s 547us/step - loss: 0.2069 - acc: 0.9398 - val_loss: 0.1758 - val_acc: 0.9491\n",
      "Epoch 10/15\n",
      "110288/110288 [==============================] - 60s 546us/step - loss: 0.1709 - acc: 0.9497 - val_loss: 0.1582 - val_acc: 0.9540\n",
      "Epoch 11/15\n",
      "110288/110288 [==============================] - 60s 547us/step - loss: 0.1527 - acc: 0.9545 - val_loss: 0.1412 - val_acc: 0.9581\n",
      "Epoch 12/15\n",
      "110288/110288 [==============================] - 60s 546us/step - loss: 0.1326 - acc: 0.9604 - val_loss: 0.1224 - val_acc: 0.9635\n",
      "Epoch 13/15\n",
      "110288/110288 [==============================] - 60s 547us/step - loss: 0.1178 - acc: 0.9644 - val_loss: 0.1175 - val_acc: 0.9647\n",
      "Epoch 14/15\n",
      "110288/110288 [==============================] - 60s 547us/step - loss: 0.1077 - acc: 0.9673 - val_loss: 0.1063 - val_acc: 0.9682\n",
      "Epoch 15/15\n",
      "110288/110288 [==============================] - 60s 547us/step - loss: 0.0987 - acc: 0.9699 - val_loss: 0.0931 - val_acc: 0.9718\n",
      "Sample 1:\n",
      "il a vu un vieux camion jaune <PAD> <PAD> <PAD> <PAD> <PAD> <PAD> <PAD> <PAD> <PAD> <PAD> <PAD> <PAD> <PAD> <PAD>\n",
      "Il a vu un vieux camion jaune\n",
      "Sample 2:\n",
      "new jersey est parfois calme pendant l' automne et il est neigeux en avril <PAD> <PAD> <PAD> <PAD> <PAD> <PAD> <PAD>\n",
      "new jersey est parfois calme pendant l' automne et il est neigeux en avril <PAD> <PAD> <PAD> <PAD> <PAD> <PAD> <PAD>\n"
     ]
    }
   ],
   "source": [
    "def final_predictions(x, y, x_tk, y_tk):\n",
    "    \"\"\"\n",
    "    Gets predictions using the final model\n",
    "    :param x: Preprocessed English data\n",
    "    :param y: Preprocessed French data\n",
    "    :param x_tk: English tokenizer\n",
    "    :param y_tk: French tokenizer\n",
    "    \"\"\"\n",
    "  \n",
    "    # Final model\n",
    "    model = model_final(x.shape, \n",
    "                        y.shape[1], \n",
    "                        len(x_tk.word_index) + 1, \n",
    "                        len(y_tk.word_index) + 1)\n",
    "       \n",
    "    model.summary()\n",
    "    model.fit(x, y, batch_size=512, epochs=15, validation_split=0.2)\n",
    "   \n",
    "    ## DON'T EDIT ANYTHING BELOW THIS LINE\n",
    "    y_id_to_word = {value: key for key, value in y_tk.word_index.items()}\n",
    "    y_id_to_word[0] = '<PAD>'\n",
    "\n",
    "    sentence = 'he saw a old yellow truck'\n",
    "    sentence = [x_tk.word_index[word] for word in sentence.split()]\n",
    "    sentence = pad_sequences([sentence], maxlen=x.shape[-1], padding='post')\n",
    "    sentences = np.array([sentence[0], x[0]])\n",
    "    predictions = model.predict(sentences, len(sentences))\n",
    "\n",
    "    print('Sample 1:')\n",
    "    print(' '.join([y_id_to_word[np.argmax(x)] for x in predictions[0]]))\n",
    "    print('Il a vu un vieux camion jaune')\n",
    "    print('Sample 2:')\n",
    "    print(' '.join([y_id_to_word[np.argmax(x)] for x in predictions[1]]))\n",
    "    print(' '.join([y_id_to_word[np.max(x)] for x in y[0]]))\n",
    "\n",
    "\n",
    "final_predictions(preproc_english_sentences, preproc_french_sentences, english_tokenizer, french_tokenizer)"
   ]
  },
  {
   "cell_type": "markdown",
   "metadata": {},
   "source": [
    "## Submission\n",
    "When you're ready to submit, complete the following steps:\n",
    "1. Review the [rubric](https://review.udacity.com/#!/rubrics/1004/view) to ensure your submission meets all requirements to pass\n",
    "2. Generate an HTML version of this notebook\n",
    "\n",
    "  - Run the next cell to attempt automatic generation (this is the recommended method in Workspaces)\n",
    "  - Navigate to **FILE -> Download as -> HTML (.html)**\n",
    "  - Manually generate a copy using `nbconvert` from your shell terminal\n",
    "```\n",
    "$ pip install nbconvert\n",
    "$ python -m nbconvert machine_translation.ipynb\n",
    "```\n",
    "  \n",
    "3. Submit the project\n",
    "\n",
    "  - If you are in a Workspace, simply click the \"Submit Project\" button (bottom towards the right)\n",
    "  \n",
    "  - Otherwise, add the following files into a zip archive and submit them \n",
    "  - `helper.py`\n",
    "  - `machine_translation.ipynb`\n",
    "  - `machine_translation.html`\n",
    "    - You can export the notebook by navigating to **File -> Download as -> HTML (.html)**."
   ]
  },
  {
   "cell_type": "markdown",
   "metadata": {},
   "source": [
    "### Generate the html\n",
    "\n",
    "**Save your notebook before running the next cell to generate the HTML output.** Then submit your project."
   ]
  },
  {
   "cell_type": "code",
   "execution_count": 44,
   "metadata": {},
   "outputs": [
    {
     "data": {
      "text/plain": [
       "['[NbConvertApp] Converting notebook machine_translation.ipynb to html',\n",
       " '[NbConvertApp] Writing 382056 bytes to machine_translation.html',\n",
       " '[NbConvertApp] Converting notebook machine_translation-zh.ipynb to html',\n",
       " '[NbConvertApp] Writing 328614 bytes to machine_translation-zh.html']"
      ]
     },
     "execution_count": 44,
     "metadata": {},
     "output_type": "execute_result"
    }
   ],
   "source": [
    "# Save before you run this cell!\n",
    "!!jupyter nbconvert *.ipynb"
   ]
  },
  {
   "cell_type": "markdown",
   "metadata": {},
   "source": [
    "## Optional Enhancements\n",
    "\n",
    "This project focuses on learning various network architectures for machine translation, but we don't evaluate the models according to best practices by splitting the data into separate test & training sets -- so the model accuracy is overstated. Use the [`sklearn.model_selection.train_test_split()`](http://scikit-learn.org/stable/modules/generated/sklearn.model_selection.train_test_split.html) function to create separate training & test datasets, then retrain each of the models using only the training set and evaluate the prediction accuracy using the hold out test set. Does the \"best\" model change?"
   ]
  }
 ],
 "metadata": {
  "kernelspec": {
   "display_name": "Python 3",
   "language": "python",
   "name": "python3"
  },
  "language_info": {
   "codemirror_mode": {
    "name": "ipython",
    "version": 3
   },
   "file_extension": ".py",
   "mimetype": "text/x-python",
   "name": "python",
   "nbconvert_exporter": "python",
   "pygments_lexer": "ipython3",
   "version": "3.6.3"
  }
 },
 "nbformat": 4,
 "nbformat_minor": 1
}
